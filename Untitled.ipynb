{
 "cells": [
  {
   "cell_type": "code",
   "execution_count": 1,
   "id": "da84ae23-33df-4f1b-a823-45033e3af549",
   "metadata": {},
   "outputs": [],
   "source": [
    "# from prompts import extract_triplets_template, create_unstructured_prompt\n",
    "from prompts import extract_triplets_template\n",
    "from configs import node_types, rel_types"
   ]
  },
  {
   "cell_type": "code",
   "execution_count": 2,
   "id": "a00c2d81-2119-4b46-9d8f-dd7db2562832",
   "metadata": {
    "scrolled": true
   },
   "outputs": [
    {
     "ename": "NameError",
     "evalue": "name 'create_unstructured_prompt' is not defined",
     "output_type": "error",
     "traceback": [
      "\u001b[0;31m---------------------------------------------------------------------------\u001b[0m",
      "\u001b[0;31mNameError\u001b[0m                                 Traceback (most recent call last)",
      "Cell \u001b[0;32mIn[2], line 1\u001b[0m\n\u001b[0;32m----> 1\u001b[0m create_unstructured_prompt(node_types, rel_types)\n",
      "\u001b[0;31mNameError\u001b[0m: name 'create_unstructured_prompt' is not defined"
     ]
    }
   ],
   "source": [
    "create_unstructured_prompt(node_types, rel_types)"
   ]
  },
  {
   "cell_type": "code",
   "execution_count": 2,
   "id": "17310c0d-c3f9-4b67-8002-62aa8a51342a",
   "metadata": {
    "scrolled": true
   },
   "outputs": [
    {
     "name": "stdout",
     "output_type": "stream",
     "text": [
      "System Message: content='You are a top-tier algorithm designed for extracting information in structured formats to build a knowledge graph. You must generate the output in a JSON format containing a list with JSON objects. Each object should have the keys: \"head\", \"head_type\", \"relation\", \"tail\", and \"tail_type\". The \"head\" key is the head of the relation and must be an extracted entity with one of the types from [\\'Patent\\', \\'Inventor\\', \\'Applicant\\', \\'Technical Field\\', \\'Patent Owner\\', \\'Patent Citation\\']. The \"head_type\" key is the type of the \"head\" key, and must be one of the types from [\\'Patent\\', \\'Inventor\\', \\'Applicant\\', \\'Technical Field\\', \\'Patent Owner\\', \\'Patent Citation\\'].\\nThe \"relation\" key is the type of relation between the \"head\" and the \"tail\", and must be one of the relations from [\\'Owned_by\\', \\'Cite\\', \\'Applied_by\\', \\'Invented_by\\', \\'Belongs_to\\'].\\nThe \"tail\" key is the tail of the relation and must be an extracted entity with one of the types from [\\'Patent\\', \\'Inventor\\', \\'Applicant\\', \\'Technical Field\\', \\'Patent Owner\\', \\'Patent Citation\\']. The \"tail_type\" key is the type of the \"tail\" key, and must be one of the types from [\\'Patent\\', \\'Inventor\\', \\'Applicant\\', \\'Technical Field\\', \\'Patent Owner\\', \\'Patent Citation\\'].\\nIMPORTANT NOTES:\\n- Don\\'t add any explanation and text. ' additional_kwargs={} response_metadata={}\n",
      "\n",
      "\n",
      "Human Prompt String: Your task is to extract entities and relations from the provided text.\n",
      "\n",
      "The entity type can only be one of the following:\n",
      "# ENTITY TYPES:\n",
      "['Patent', 'Inventor', 'Applicant', 'Technical Field', 'Patent Owner', 'Patent Citation']\n",
      "DO NOT make up any entity that is not defined.\n",
      "\n",
      "The relation type can only be one of the following:\n",
      "# RELATION TYPES:\n",
      "[('Patent', 'Invented_by', 'Inventor'), ('Patent', 'Applied_by', 'Applicant'), ('Patent', 'Belongs_to', 'Technical Field'), ('Patent', 'Owned_by', 'Patent Owner'), ('Patent', 'Cite', 'Patent Citation')]\n",
      "DO NOT make up any relation that is not defined.\n",
      "\n",
      "The relations defined in \"RELATION TYPES\" can only appear between specific node types, which are all listed in [('Patent', 'Invented_by', 'Inventor'), ('Patent', 'Applied_by', 'Applicant'), ('Patent', 'Belongs_to', 'Technical Field'), ('Patent', 'Owned_by', 'Patent Owner'), ('Patent', 'Cite', 'Patent Citation')].\n",
      "DO NOT make up relations between node types in ['Patent', 'Inventor', 'Applicant', 'Technical Field', 'Patent Owner', 'Patent Citation'] that are not defined in [('Patent', 'Invented_by', 'Inventor'), ('Patent', 'Applied_by', 'Applicant'), ('Patent', 'Belongs_to', 'Technical Field'), ('Patent', 'Owned_by', 'Patent Owner'), ('Patent', 'Cite', 'Patent Citation')].\n",
      "\n",
      "Below are a number of examples of text and their extracted entities and relations.\n",
      "{examples}\n",
      "\n",
      "For the following text, extract entities and relations as in the provided example.\n",
      "{format_instructions}\n",
      "Text: {input}\n",
      "\n",
      "\n",
      "Human Prompt: input_variables=['input'] input_types={} partial_variables={'format_instructions': 'The output should be formatted as a JSON instance that conforms to the JSON schema below.\\n\\nAs an example, for the schema {\"properties\": {\"foo\": {\"title\": \"Foo\", \"description\": \"a list of strings\", \"type\": \"array\", \"items\": {\"type\": \"string\"}}}, \"required\": [\"foo\"]}\\nthe object {\"foo\": [\"bar\", \"baz\"]} is a well-formatted instance of the schema. The object {\"properties\": {\"foo\": [\"bar\", \"baz\"]}} is not well-formatted.\\n\\nHere is the output schema:\\n```\\n{\"properties\": {\"head\": {\"description\": \"extracted head entity like Microsoft, Apple, John. Must use human-readable unique identifier.\", \"title\": \"Head\", \"type\": \"string\"}, \"head_type\": {\"description\": \"type of the extracted head entity like Person, Company, etc\", \"title\": \"Head Type\", \"type\": \"string\"}, \"relation\": {\"description\": \"relation between the head and the tail entities\", \"title\": \"Relation\", \"type\": \"string\"}, \"tail\": {\"description\": \"extracted tail entity like Microsoft, Apple, John. Must use human-readable unique identifier.\", \"title\": \"Tail\", \"type\": \"string\"}, \"tail_type\": {\"description\": \"type of the extracted tail entity like Person, Company, etc\", \"title\": \"Tail Type\", \"type\": \"string\"}}, \"required\": [\"head\", \"head_type\", \"relation\", \"tail\", \"tail_type\"]}\\n```', 'node_labels': ['Patent', 'Inventor', 'Applicant', 'Technical Field', 'Patent Owner', 'Patent Citation'], 'rel_types': [('Patent', 'Invented_by', 'Inventor'), ('Patent', 'Applied_by', 'Applicant'), ('Patent', 'Belongs_to', 'Technical Field'), ('Patent', 'Owned_by', 'Patent Owner'), ('Patent', 'Cite', 'Patent Citation')], 'examples': '[\\n  {\\n    \"text\": \"The present invention provides an apparatus for facilitating a photovoltaic device to provide a wireless communication channel. The apparatus comprises a switch connected in parallel with the photovoltaic device and configured for driving the photovoltaic device to produce optical signals carrying sensed data to be transmitted; and a control module connected with the switch and configured for receiving electrical sensing signals and generate a control signal to control the switch.\",\\n    \"head\": \"Apparatus for facilitating a photovoltaic device to provide a wireless communication channel\",\\n    \"head_type\": \"Patent\",\\n    \"relation\": \"Belongs_to\",\\n    \"tail\": \"Photovoltaic devices\",\\n    \"tail_type\": \"Technical Field\"\\n  },\\n  {\\n    \"text\": \"Inventor(s): Garaj; Martin (Bratislava, SK), Chung; Shu Hung Henry (Hong Kong, HK)\\\\nUS Patent No.: 11671731\",\\n    \"head\": \"11671731\",\\n    \"head_type\": \"Patent\",\\n    \"relation\": \"Invented_by\",\\n    \"tail\": \"Martin Garaj\",\\n    \"tail_type\": \"Inventor\"\\n  },\\n  {\\n    \"text\": \"Applicant: City University of Hong Kong, Hong Kong (HK)\\\\nUS Patent No.: 11671731\",\\n    \"head\": \"11671731\",\\n    \"head_type\": \"Patent\",\\n    \"relation\": \"Applied_by\",\\n    \"tail\": \"City University of Hong Kong\",\\n    \"tail_type\": \"Applicant\"\\n  },\\n  {\\n    \"text\": \"US Patent 9413457 is cited in this invention as prior art.\\\\nUS Patent No.: 11671731\",\\n    \"head\": \"11671731\",\\n    \"head_type\": \"Patent\",\\n    \"relation\": \"Cite\",\\n    \"tail\": \"9413457\",\\n    \"tail_type\": \"Patent Citation\"\\n  }\\n]'} template='Your task is to extract entities and relations from the provided text.\\n\\nThe entity type can only be one of the following:\\n# ENTITY TYPES:\\n[\\'Patent\\', \\'Inventor\\', \\'Applicant\\', \\'Technical Field\\', \\'Patent Owner\\', \\'Patent Citation\\']\\nDO NOT make up any entity that is not defined.\\n\\nThe relation type can only be one of the following:\\n# RELATION TYPES:\\n[(\\'Patent\\', \\'Invented_by\\', \\'Inventor\\'), (\\'Patent\\', \\'Applied_by\\', \\'Applicant\\'), (\\'Patent\\', \\'Belongs_to\\', \\'Technical Field\\'), (\\'Patent\\', \\'Owned_by\\', \\'Patent Owner\\'), (\\'Patent\\', \\'Cite\\', \\'Patent Citation\\')]\\nDO NOT make up any relation that is not defined.\\n\\nThe relations defined in \"RELATION TYPES\" can only appear between specific node types, which are all listed in [(\\'Patent\\', \\'Invented_by\\', \\'Inventor\\'), (\\'Patent\\', \\'Applied_by\\', \\'Applicant\\'), (\\'Patent\\', \\'Belongs_to\\', \\'Technical Field\\'), (\\'Patent\\', \\'Owned_by\\', \\'Patent Owner\\'), (\\'Patent\\', \\'Cite\\', \\'Patent Citation\\')].\\nDO NOT make up relations between node types in [\\'Patent\\', \\'Inventor\\', \\'Applicant\\', \\'Technical Field\\', \\'Patent Owner\\', \\'Patent Citation\\'] that are not defined in [(\\'Patent\\', \\'Invented_by\\', \\'Inventor\\'), (\\'Patent\\', \\'Applied_by\\', \\'Applicant\\'), (\\'Patent\\', \\'Belongs_to\\', \\'Technical Field\\'), (\\'Patent\\', \\'Owned_by\\', \\'Patent Owner\\'), (\\'Patent\\', \\'Cite\\', \\'Patent Citation\\')].\\n\\nBelow are a number of examples of text and their extracted entities and relations.\\n{examples}\\n\\nFor the following text, extract entities and relations as in the provided example.\\n{format_instructions}\\nText: {input}'\n",
      "\n",
      "\n",
      "Human Message Prompt: prompt=PromptTemplate(input_variables=['input'], input_types={}, partial_variables={'format_instructions': 'The output should be formatted as a JSON instance that conforms to the JSON schema below.\\n\\nAs an example, for the schema {\"properties\": {\"foo\": {\"title\": \"Foo\", \"description\": \"a list of strings\", \"type\": \"array\", \"items\": {\"type\": \"string\"}}}, \"required\": [\"foo\"]}\\nthe object {\"foo\": [\"bar\", \"baz\"]} is a well-formatted instance of the schema. The object {\"properties\": {\"foo\": [\"bar\", \"baz\"]}} is not well-formatted.\\n\\nHere is the output schema:\\n```\\n{\"properties\": {\"head\": {\"description\": \"extracted head entity like Microsoft, Apple, John. Must use human-readable unique identifier.\", \"title\": \"Head\", \"type\": \"string\"}, \"head_type\": {\"description\": \"type of the extracted head entity like Person, Company, etc\", \"title\": \"Head Type\", \"type\": \"string\"}, \"relation\": {\"description\": \"relation between the head and the tail entities\", \"title\": \"Relation\", \"type\": \"string\"}, \"tail\": {\"description\": \"extracted tail entity like Microsoft, Apple, John. Must use human-readable unique identifier.\", \"title\": \"Tail\", \"type\": \"string\"}, \"tail_type\": {\"description\": \"type of the extracted tail entity like Person, Company, etc\", \"title\": \"Tail Type\", \"type\": \"string\"}}, \"required\": [\"head\", \"head_type\", \"relation\", \"tail\", \"tail_type\"]}\\n```', 'node_labels': ['Patent', 'Inventor', 'Applicant', 'Technical Field', 'Patent Owner', 'Patent Citation'], 'rel_types': [('Patent', 'Invented_by', 'Inventor'), ('Patent', 'Applied_by', 'Applicant'), ('Patent', 'Belongs_to', 'Technical Field'), ('Patent', 'Owned_by', 'Patent Owner'), ('Patent', 'Cite', 'Patent Citation')], 'examples': '[\\n  {\\n    \"text\": \"The present invention provides an apparatus for facilitating a photovoltaic device to provide a wireless communication channel. The apparatus comprises a switch connected in parallel with the photovoltaic device and configured for driving the photovoltaic device to produce optical signals carrying sensed data to be transmitted; and a control module connected with the switch and configured for receiving electrical sensing signals and generate a control signal to control the switch.\",\\n    \"head\": \"Apparatus for facilitating a photovoltaic device to provide a wireless communication channel\",\\n    \"head_type\": \"Patent\",\\n    \"relation\": \"Belongs_to\",\\n    \"tail\": \"Photovoltaic devices\",\\n    \"tail_type\": \"Technical Field\"\\n  },\\n  {\\n    \"text\": \"Inventor(s): Garaj; Martin (Bratislava, SK), Chung; Shu Hung Henry (Hong Kong, HK)\\\\nUS Patent No.: 11671731\",\\n    \"head\": \"11671731\",\\n    \"head_type\": \"Patent\",\\n    \"relation\": \"Invented_by\",\\n    \"tail\": \"Martin Garaj\",\\n    \"tail_type\": \"Inventor\"\\n  },\\n  {\\n    \"text\": \"Applicant: City University of Hong Kong, Hong Kong (HK)\\\\nUS Patent No.: 11671731\",\\n    \"head\": \"11671731\",\\n    \"head_type\": \"Patent\",\\n    \"relation\": \"Applied_by\",\\n    \"tail\": \"City University of Hong Kong\",\\n    \"tail_type\": \"Applicant\"\\n  },\\n  {\\n    \"text\": \"US Patent 9413457 is cited in this invention as prior art.\\\\nUS Patent No.: 11671731\",\\n    \"head\": \"11671731\",\\n    \"head_type\": \"Patent\",\\n    \"relation\": \"Cite\",\\n    \"tail\": \"9413457\",\\n    \"tail_type\": \"Patent Citation\"\\n  }\\n]'}, template='Your task is to extract entities and relations from the provided text.\\n\\nThe entity type can only be one of the following:\\n# ENTITY TYPES:\\n[\\'Patent\\', \\'Inventor\\', \\'Applicant\\', \\'Technical Field\\', \\'Patent Owner\\', \\'Patent Citation\\']\\nDO NOT make up any entity that is not defined.\\n\\nThe relation type can only be one of the following:\\n# RELATION TYPES:\\n[(\\'Patent\\', \\'Invented_by\\', \\'Inventor\\'), (\\'Patent\\', \\'Applied_by\\', \\'Applicant\\'), (\\'Patent\\', \\'Belongs_to\\', \\'Technical Field\\'), (\\'Patent\\', \\'Owned_by\\', \\'Patent Owner\\'), (\\'Patent\\', \\'Cite\\', \\'Patent Citation\\')]\\nDO NOT make up any relation that is not defined.\\n\\nThe relations defined in \"RELATION TYPES\" can only appear between specific node types, which are all listed in [(\\'Patent\\', \\'Invented_by\\', \\'Inventor\\'), (\\'Patent\\', \\'Applied_by\\', \\'Applicant\\'), (\\'Patent\\', \\'Belongs_to\\', \\'Technical Field\\'), (\\'Patent\\', \\'Owned_by\\', \\'Patent Owner\\'), (\\'Patent\\', \\'Cite\\', \\'Patent Citation\\')].\\nDO NOT make up relations between node types in [\\'Patent\\', \\'Inventor\\', \\'Applicant\\', \\'Technical Field\\', \\'Patent Owner\\', \\'Patent Citation\\'] that are not defined in [(\\'Patent\\', \\'Invented_by\\', \\'Inventor\\'), (\\'Patent\\', \\'Applied_by\\', \\'Applicant\\'), (\\'Patent\\', \\'Belongs_to\\', \\'Technical Field\\'), (\\'Patent\\', \\'Owned_by\\', \\'Patent Owner\\'), (\\'Patent\\', \\'Cite\\', \\'Patent Citation\\')].\\n\\nBelow are a number of examples of text and their extracted entities and relations.\\n{examples}\\n\\nFor the following text, extract entities and relations as in the provided example.\\n{format_instructions}\\nText: {input}') additional_kwargs={}\n",
      "\n",
      "\n",
      "Chat Prompt: input_variables=['input'] input_types={} partial_variables={} messages=[SystemMessage(content='You are a top-tier algorithm designed for extracting information in structured formats to build a knowledge graph. You must generate the output in a JSON format containing a list with JSON objects. Each object should have the keys: \"head\", \"head_type\", \"relation\", \"tail\", and \"tail_type\". The \"head\" key is the head of the relation and must be an extracted entity with one of the types from [\\'Patent\\', \\'Inventor\\', \\'Applicant\\', \\'Technical Field\\', \\'Patent Owner\\', \\'Patent Citation\\']. The \"head_type\" key is the type of the \"head\" key, and must be one of the types from [\\'Patent\\', \\'Inventor\\', \\'Applicant\\', \\'Technical Field\\', \\'Patent Owner\\', \\'Patent Citation\\'].\\nThe \"relation\" key is the type of relation between the \"head\" and the \"tail\", and must be one of the relations from [\\'Owned_by\\', \\'Cite\\', \\'Applied_by\\', \\'Invented_by\\', \\'Belongs_to\\'].\\nThe \"tail\" key is the tail of the relation and must be an extracted entity with one of the types from [\\'Patent\\', \\'Inventor\\', \\'Applicant\\', \\'Technical Field\\', \\'Patent Owner\\', \\'Patent Citation\\']. The \"tail_type\" key is the type of the \"tail\" key, and must be one of the types from [\\'Patent\\', \\'Inventor\\', \\'Applicant\\', \\'Technical Field\\', \\'Patent Owner\\', \\'Patent Citation\\'].\\nIMPORTANT NOTES:\\n- Don\\'t add any explanation and text. ', additional_kwargs={}, response_metadata={}), HumanMessagePromptTemplate(prompt=PromptTemplate(input_variables=['input'], input_types={}, partial_variables={'format_instructions': 'The output should be formatted as a JSON instance that conforms to the JSON schema below.\\n\\nAs an example, for the schema {\"properties\": {\"foo\": {\"title\": \"Foo\", \"description\": \"a list of strings\", \"type\": \"array\", \"items\": {\"type\": \"string\"}}}, \"required\": [\"foo\"]}\\nthe object {\"foo\": [\"bar\", \"baz\"]} is a well-formatted instance of the schema. The object {\"properties\": {\"foo\": [\"bar\", \"baz\"]}} is not well-formatted.\\n\\nHere is the output schema:\\n```\\n{\"properties\": {\"head\": {\"description\": \"extracted head entity like Microsoft, Apple, John. Must use human-readable unique identifier.\", \"title\": \"Head\", \"type\": \"string\"}, \"head_type\": {\"description\": \"type of the extracted head entity like Person, Company, etc\", \"title\": \"Head Type\", \"type\": \"string\"}, \"relation\": {\"description\": \"relation between the head and the tail entities\", \"title\": \"Relation\", \"type\": \"string\"}, \"tail\": {\"description\": \"extracted tail entity like Microsoft, Apple, John. Must use human-readable unique identifier.\", \"title\": \"Tail\", \"type\": \"string\"}, \"tail_type\": {\"description\": \"type of the extracted tail entity like Person, Company, etc\", \"title\": \"Tail Type\", \"type\": \"string\"}}, \"required\": [\"head\", \"head_type\", \"relation\", \"tail\", \"tail_type\"]}\\n```', 'node_labels': ['Patent', 'Inventor', 'Applicant', 'Technical Field', 'Patent Owner', 'Patent Citation'], 'rel_types': [('Patent', 'Invented_by', 'Inventor'), ('Patent', 'Applied_by', 'Applicant'), ('Patent', 'Belongs_to', 'Technical Field'), ('Patent', 'Owned_by', 'Patent Owner'), ('Patent', 'Cite', 'Patent Citation')], 'examples': '[\\n  {\\n    \"text\": \"The present invention provides an apparatus for facilitating a photovoltaic device to provide a wireless communication channel. The apparatus comprises a switch connected in parallel with the photovoltaic device and configured for driving the photovoltaic device to produce optical signals carrying sensed data to be transmitted; and a control module connected with the switch and configured for receiving electrical sensing signals and generate a control signal to control the switch.\",\\n    \"head\": \"Apparatus for facilitating a photovoltaic device to provide a wireless communication channel\",\\n    \"head_type\": \"Patent\",\\n    \"relation\": \"Belongs_to\",\\n    \"tail\": \"Photovoltaic devices\",\\n    \"tail_type\": \"Technical Field\"\\n  },\\n  {\\n    \"text\": \"Inventor(s): Garaj; Martin (Bratislava, SK), Chung; Shu Hung Henry (Hong Kong, HK)\\\\nUS Patent No.: 11671731\",\\n    \"head\": \"11671731\",\\n    \"head_type\": \"Patent\",\\n    \"relation\": \"Invented_by\",\\n    \"tail\": \"Martin Garaj\",\\n    \"tail_type\": \"Inventor\"\\n  },\\n  {\\n    \"text\": \"Applicant: City University of Hong Kong, Hong Kong (HK)\\\\nUS Patent No.: 11671731\",\\n    \"head\": \"11671731\",\\n    \"head_type\": \"Patent\",\\n    \"relation\": \"Applied_by\",\\n    \"tail\": \"City University of Hong Kong\",\\n    \"tail_type\": \"Applicant\"\\n  },\\n  {\\n    \"text\": \"US Patent 9413457 is cited in this invention as prior art.\\\\nUS Patent No.: 11671731\",\\n    \"head\": \"11671731\",\\n    \"head_type\": \"Patent\",\\n    \"relation\": \"Cite\",\\n    \"tail\": \"9413457\",\\n    \"tail_type\": \"Patent Citation\"\\n  }\\n]'}, template='Your task is to extract entities and relations from the provided text.\\n\\nThe entity type can only be one of the following:\\n# ENTITY TYPES:\\n[\\'Patent\\', \\'Inventor\\', \\'Applicant\\', \\'Technical Field\\', \\'Patent Owner\\', \\'Patent Citation\\']\\nDO NOT make up any entity that is not defined.\\n\\nThe relation type can only be one of the following:\\n# RELATION TYPES:\\n[(\\'Patent\\', \\'Invented_by\\', \\'Inventor\\'), (\\'Patent\\', \\'Applied_by\\', \\'Applicant\\'), (\\'Patent\\', \\'Belongs_to\\', \\'Technical Field\\'), (\\'Patent\\', \\'Owned_by\\', \\'Patent Owner\\'), (\\'Patent\\', \\'Cite\\', \\'Patent Citation\\')]\\nDO NOT make up any relation that is not defined.\\n\\nThe relations defined in \"RELATION TYPES\" can only appear between specific node types, which are all listed in [(\\'Patent\\', \\'Invented_by\\', \\'Inventor\\'), (\\'Patent\\', \\'Applied_by\\', \\'Applicant\\'), (\\'Patent\\', \\'Belongs_to\\', \\'Technical Field\\'), (\\'Patent\\', \\'Owned_by\\', \\'Patent Owner\\'), (\\'Patent\\', \\'Cite\\', \\'Patent Citation\\')].\\nDO NOT make up relations between node types in [\\'Patent\\', \\'Inventor\\', \\'Applicant\\', \\'Technical Field\\', \\'Patent Owner\\', \\'Patent Citation\\'] that are not defined in [(\\'Patent\\', \\'Invented_by\\', \\'Inventor\\'), (\\'Patent\\', \\'Applied_by\\', \\'Applicant\\'), (\\'Patent\\', \\'Belongs_to\\', \\'Technical Field\\'), (\\'Patent\\', \\'Owned_by\\', \\'Patent Owner\\'), (\\'Patent\\', \\'Cite\\', \\'Patent Citation\\')].\\n\\nBelow are a number of examples of text and their extracted entities and relations.\\n{examples}\\n\\nFor the following text, extract entities and relations as in the provided example.\\n{format_instructions}\\nText: {input}'), additional_kwargs={})]\n",
      "\n",
      "\n",
      "input_variables=['input'] input_types={} partial_variables={} messages=[SystemMessage(content='You are a top-tier algorithm designed for extracting information in structured formats to build a knowledge graph. You must generate the output in a JSON format containing a list with JSON objects. Each object should have the keys: \"head\", \"head_type\", \"relation\", \"tail\", and \"tail_type\". The \"head\" key is the head of the relation and must be an extracted entity with one of the types from [\\'Patent\\', \\'Inventor\\', \\'Applicant\\', \\'Technical Field\\', \\'Patent Owner\\', \\'Patent Citation\\']. The \"head_type\" key is the type of the \"head\" key, and must be one of the types from [\\'Patent\\', \\'Inventor\\', \\'Applicant\\', \\'Technical Field\\', \\'Patent Owner\\', \\'Patent Citation\\'].\\nThe \"relation\" key is the type of relation between the \"head\" and the \"tail\", and must be one of the relations from [\\'Owned_by\\', \\'Cite\\', \\'Applied_by\\', \\'Invented_by\\', \\'Belongs_to\\'].\\nThe \"tail\" key is the tail of the relation and must be an extracted entity with one of the types from [\\'Patent\\', \\'Inventor\\', \\'Applicant\\', \\'Technical Field\\', \\'Patent Owner\\', \\'Patent Citation\\']. The \"tail_type\" key is the type of the \"tail\" key, and must be one of the types from [\\'Patent\\', \\'Inventor\\', \\'Applicant\\', \\'Technical Field\\', \\'Patent Owner\\', \\'Patent Citation\\'].\\nIMPORTANT NOTES:\\n- Don\\'t add any explanation and text. ', additional_kwargs={}, response_metadata={}), HumanMessagePromptTemplate(prompt=PromptTemplate(input_variables=['input'], input_types={}, partial_variables={'format_instructions': 'The output should be formatted as a JSON instance that conforms to the JSON schema below.\\n\\nAs an example, for the schema {\"properties\": {\"foo\": {\"title\": \"Foo\", \"description\": \"a list of strings\", \"type\": \"array\", \"items\": {\"type\": \"string\"}}}, \"required\": [\"foo\"]}\\nthe object {\"foo\": [\"bar\", \"baz\"]} is a well-formatted instance of the schema. The object {\"properties\": {\"foo\": [\"bar\", \"baz\"]}} is not well-formatted.\\n\\nHere is the output schema:\\n```\\n{\"properties\": {\"head\": {\"description\": \"extracted head entity like Microsoft, Apple, John. Must use human-readable unique identifier.\", \"title\": \"Head\", \"type\": \"string\"}, \"head_type\": {\"description\": \"type of the extracted head entity like Person, Company, etc\", \"title\": \"Head Type\", \"type\": \"string\"}, \"relation\": {\"description\": \"relation between the head and the tail entities\", \"title\": \"Relation\", \"type\": \"string\"}, \"tail\": {\"description\": \"extracted tail entity like Microsoft, Apple, John. Must use human-readable unique identifier.\", \"title\": \"Tail\", \"type\": \"string\"}, \"tail_type\": {\"description\": \"type of the extracted tail entity like Person, Company, etc\", \"title\": \"Tail Type\", \"type\": \"string\"}}, \"required\": [\"head\", \"head_type\", \"relation\", \"tail\", \"tail_type\"]}\\n```', 'node_labels': ['Patent', 'Inventor', 'Applicant', 'Technical Field', 'Patent Owner', 'Patent Citation'], 'rel_types': [('Patent', 'Invented_by', 'Inventor'), ('Patent', 'Applied_by', 'Applicant'), ('Patent', 'Belongs_to', 'Technical Field'), ('Patent', 'Owned_by', 'Patent Owner'), ('Patent', 'Cite', 'Patent Citation')], 'examples': '[\\n  {\\n    \"text\": \"The present invention provides an apparatus for facilitating a photovoltaic device to provide a wireless communication channel. The apparatus comprises a switch connected in parallel with the photovoltaic device and configured for driving the photovoltaic device to produce optical signals carrying sensed data to be transmitted; and a control module connected with the switch and configured for receiving electrical sensing signals and generate a control signal to control the switch.\",\\n    \"head\": \"Apparatus for facilitating a photovoltaic device to provide a wireless communication channel\",\\n    \"head_type\": \"Patent\",\\n    \"relation\": \"Belongs_to\",\\n    \"tail\": \"Photovoltaic devices\",\\n    \"tail_type\": \"Technical Field\"\\n  },\\n  {\\n    \"text\": \"Inventor(s): Garaj; Martin (Bratislava, SK), Chung; Shu Hung Henry (Hong Kong, HK)\\\\nUS Patent No.: 11671731\",\\n    \"head\": \"11671731\",\\n    \"head_type\": \"Patent\",\\n    \"relation\": \"Invented_by\",\\n    \"tail\": \"Martin Garaj\",\\n    \"tail_type\": \"Inventor\"\\n  },\\n  {\\n    \"text\": \"Applicant: City University of Hong Kong, Hong Kong (HK)\\\\nUS Patent No.: 11671731\",\\n    \"head\": \"11671731\",\\n    \"head_type\": \"Patent\",\\n    \"relation\": \"Applied_by\",\\n    \"tail\": \"City University of Hong Kong\",\\n    \"tail_type\": \"Applicant\"\\n  },\\n  {\\n    \"text\": \"US Patent 9413457 is cited in this invention as prior art.\\\\nUS Patent No.: 11671731\",\\n    \"head\": \"11671731\",\\n    \"head_type\": \"Patent\",\\n    \"relation\": \"Cite\",\\n    \"tail\": \"9413457\",\\n    \"tail_type\": \"Patent Citation\"\\n  }\\n]'}, template='Your task is to extract entities and relations from the provided text.\\n\\nThe entity type can only be one of the following:\\n# ENTITY TYPES:\\n[\\'Patent\\', \\'Inventor\\', \\'Applicant\\', \\'Technical Field\\', \\'Patent Owner\\', \\'Patent Citation\\']\\nDO NOT make up any entity that is not defined.\\n\\nThe relation type can only be one of the following:\\n# RELATION TYPES:\\n[(\\'Patent\\', \\'Invented_by\\', \\'Inventor\\'), (\\'Patent\\', \\'Applied_by\\', \\'Applicant\\'), (\\'Patent\\', \\'Belongs_to\\', \\'Technical Field\\'), (\\'Patent\\', \\'Owned_by\\', \\'Patent Owner\\'), (\\'Patent\\', \\'Cite\\', \\'Patent Citation\\')]\\nDO NOT make up any relation that is not defined.\\n\\nThe relations defined in \"RELATION TYPES\" can only appear between specific node types, which are all listed in [(\\'Patent\\', \\'Invented_by\\', \\'Inventor\\'), (\\'Patent\\', \\'Applied_by\\', \\'Applicant\\'), (\\'Patent\\', \\'Belongs_to\\', \\'Technical Field\\'), (\\'Patent\\', \\'Owned_by\\', \\'Patent Owner\\'), (\\'Patent\\', \\'Cite\\', \\'Patent Citation\\')].\\nDO NOT make up relations between node types in [\\'Patent\\', \\'Inventor\\', \\'Applicant\\', \\'Technical Field\\', \\'Patent Owner\\', \\'Patent Citation\\'] that are not defined in [(\\'Patent\\', \\'Invented_by\\', \\'Inventor\\'), (\\'Patent\\', \\'Applied_by\\', \\'Applicant\\'), (\\'Patent\\', \\'Belongs_to\\', \\'Technical Field\\'), (\\'Patent\\', \\'Owned_by\\', \\'Patent Owner\\'), (\\'Patent\\', \\'Cite\\', \\'Patent Citation\\')].\\n\\nBelow are a number of examples of text and their extracted entities and relations.\\n{examples}\\n\\nFor the following text, extract entities and relations as in the provided example.\\n{format_instructions}\\nText: {input}'), additional_kwargs={})]\n"
     ]
    }
   ],
   "source": [
    "chat_prompt = extract_triplets_template(node_types, rel_types)\n",
    "print(chat_prompt)"
   ]
  },
  {
   "cell_type": "code",
   "execution_count": 3,
   "id": "f6d6e731-5093-47af-8387-056755a010bc",
   "metadata": {},
   "outputs": [
    {
     "data": {
      "text/plain": [
       "langchain_core.prompts.chat.ChatPromptTemplate"
      ]
     },
     "execution_count": 3,
     "metadata": {},
     "output_type": "execute_result"
    }
   ],
   "source": [
    "type(chat_prompt)"
   ]
  },
  {
   "cell_type": "code",
   "execution_count": 4,
   "id": "461906b9-6e68-4483-9846-9084f1bf4212",
   "metadata": {},
   "outputs": [
    {
     "name": "stdout",
     "output_type": "stream",
     "text": [
      "You are a top-tier algorithm designed for extracting information in structured formats to build a knowledge graph. You must generate the output in a JSON format containing a list with JSON objects. Each object should have the keys: \"head\", \"head_type\", \"relation\", \"tail\", and \"tail_type\". The \"head\" key is the head of the relation and must be an extracted entity with one of the types from ['Patent', 'Inventor', 'Applicant', 'Technical Field', 'Patent Owner', 'Patent Citation']. The \"head_type\" key is the type of the \"head\" key, and must be one of the types from ['Patent', 'Inventor', 'Applicant', 'Technical Field', 'Patent Owner', 'Patent Citation'].\n",
      "The \"relation\" key is the type of relation between the \"head\" and the \"tail\", and must be one of the relations from ['Invented_by', 'Belongs_to', 'Cite', 'Owned_by', 'Applied_by'].\n",
      "The \"tail\" key is the tail of the relation and must be an extracted entity with one of the types from ['Patent', 'Inventor', 'Applicant', 'Technical Field', 'Patent Owner', 'Patent Citation']. The \"tail_type\" key is the type of the \"tail\" key, and must be one of the types from ['Patent', 'Inventor', 'Applicant', 'Technical Field', 'Patent Owner', 'Patent Citation'].\n",
      "IMPORTANT NOTES:\n",
      "- Don't add any explanation and text. \n"
     ]
    }
   ],
   "source": [
    "print(chat_prompt.messages[0].content)"
   ]
  },
  {
   "cell_type": "code",
   "execution_count": 24,
   "id": "268254f1-533d-4825-bb9e-decc47d79160",
   "metadata": {},
   "outputs": [
    {
     "data": {
      "text/plain": [
       "{'format_instructions': 'The output should be formatted as a JSON instance that conforms to the JSON schema below.\\n\\nAs an example, for the schema {\"properties\": {\"foo\": {\"title\": \"Foo\", \"description\": \"a list of strings\", \"type\": \"array\", \"items\": {\"type\": \"string\"}}}, \"required\": [\"foo\"]}\\nthe object {\"foo\": [\"bar\", \"baz\"]} is a well-formatted instance of the schema. The object {\"properties\": {\"foo\": [\"bar\", \"baz\"]}} is not well-formatted.\\n\\nHere is the output schema:\\n```\\n{\"properties\": {\"head\": {\"description\": \"extracted head entity like Microsoft, Apple, John. Must use human-readable unique identifier.\", \"title\": \"Head\", \"type\": \"string\"}, \"head_type\": {\"description\": \"type of the extracted head entity like Person, Company, etc\", \"title\": \"Head Type\", \"type\": \"string\"}, \"relation\": {\"description\": \"relation between the head and the tail entities\", \"title\": \"Relation\", \"type\": \"string\"}, \"tail\": {\"description\": \"extracted tail entity like Microsoft, Apple, John. Must use human-readable unique identifier.\", \"title\": \"Tail\", \"type\": \"string\"}, \"tail_type\": {\"description\": \"type of the extracted tail entity like Person, Company, etc\", \"title\": \"Tail Type\", \"type\": \"string\"}}, \"required\": [\"head\", \"head_type\", \"relation\", \"tail\", \"tail_type\"]}\\n```',\n",
       " 'node_labels': ['Patent',\n",
       "  'Inventor',\n",
       "  'Applicant',\n",
       "  'Agent',\n",
       "  'Technical Field',\n",
       "  'Patent Owner',\n",
       "  'Patent Citation'],\n",
       " 'rel_types': [('Patent', 'Invented_by', 'Inventor'),\n",
       "  ('Patent', 'Applied_by', 'Applicant'),\n",
       "  ('Patent', 'Processed_by', 'Agent'),\n",
       "  ('Patent', 'Belongs_to', 'Technical Field'),\n",
       "  ('Patent', 'Owned_by', 'Patent Owner'),\n",
       "  ('Patent', 'Cite', 'Patent')],\n",
       " 'examples': [{'text': 'Adam is a software engineer in Microsoft since 2009, and last year he got an award as the Best Talent',\n",
       "   'head': 'Adam',\n",
       "   'head_type': 'Person',\n",
       "   'relation': 'WORKS_FOR',\n",
       "   'tail': 'Microsoft',\n",
       "   'tail_type': 'Company'},\n",
       "  {'text': 'Adam is a software engineer in Microsoft since 2009, and last year he got an award as the Best Talent',\n",
       "   'head': 'Adam',\n",
       "   'head_type': 'Person',\n",
       "   'relation': 'HAS_AWARD',\n",
       "   'tail': 'Best Talent',\n",
       "   'tail_type': 'Award'},\n",
       "  {'text': 'Microsoft is a tech company that provide several products such as Microsoft Word',\n",
       "   'head': 'Microsoft Word',\n",
       "   'head_type': 'Product',\n",
       "   'relation': 'PRODUCED_BY',\n",
       "   'tail': 'Microsoft',\n",
       "   'tail_type': 'Company'},\n",
       "  {'text': 'Microsoft Word is a lightweight app that accessible offline',\n",
       "   'head': 'Microsoft Word',\n",
       "   'head_type': 'Product',\n",
       "   'relation': 'HAS_CHARACTERISTIC',\n",
       "   'tail': 'lightweight app',\n",
       "   'tail_type': 'Characteristic'},\n",
       "  {'text': 'Microsoft Word is a lightweight app that accessible offline',\n",
       "   'head': 'Microsoft Word',\n",
       "   'head_type': 'Product',\n",
       "   'relation': 'HAS_CHARACTERISTIC',\n",
       "   'tail': 'accessible offline',\n",
       "   'tail_type': 'Characteristic'}]}"
      ]
     },
     "execution_count": 24,
     "metadata": {},
     "output_type": "execute_result"
    }
   ],
   "source": [
    "chat_prompt.messages[1].prompt.partial_variables"
   ]
  },
  {
   "cell_type": "code",
   "execution_count": null,
   "id": "1567d481-2dca-41a9-a56d-89a611a85563",
   "metadata": {},
   "outputs": [],
   "source": []
  }
 ],
 "metadata": {
  "kernelspec": {
   "display_name": "ip_portal",
   "language": "python",
   "name": "ip_portal"
  },
  "language_info": {
   "codemirror_mode": {
    "name": "ipython",
    "version": 3
   },
   "file_extension": ".py",
   "mimetype": "text/x-python",
   "name": "python",
   "nbconvert_exporter": "python",
   "pygments_lexer": "ipython3",
   "version": "3.13.0"
  }
 },
 "nbformat": 4,
 "nbformat_minor": 5
}
